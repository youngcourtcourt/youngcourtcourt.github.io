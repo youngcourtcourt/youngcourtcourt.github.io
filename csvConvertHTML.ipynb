{
 "cells": [
  {
   "cell_type": "code",
   "execution_count": 1,
   "metadata": {},
   "outputs": [],
   "source": [
    "import pandas as pd"
   ]
  },
  {
   "cell_type": "code",
   "execution_count": 2,
   "metadata": {},
   "outputs": [
    {
     "data": {
      "text/html": [
       "<div>\n",
       "<style scoped>\n",
       "    .dataframe tbody tr th:only-of-type {\n",
       "        vertical-align: middle;\n",
       "    }\n",
       "\n",
       "    .dataframe tbody tr th {\n",
       "        vertical-align: top;\n",
       "    }\n",
       "\n",
       "    .dataframe thead th {\n",
       "        text-align: right;\n",
       "    }\n",
       "</style>\n",
       "<table border=\"1\" class=\"dataframe\">\n",
       "  <thead>\n",
       "    <tr style=\"text-align: right;\">\n",
       "      <th></th>\n",
       "      <th>City</th>\n",
       "      <th>Lat</th>\n",
       "      <th>Lng</th>\n",
       "      <th>MaxTemp</th>\n",
       "      <th>Humidity</th>\n",
       "      <th>Cloudiness</th>\n",
       "      <th>WindSpeed</th>\n",
       "      <th>Country</th>\n",
       "      <th>Date</th>\n",
       "    </tr>\n",
       "  </thead>\n",
       "  <tbody>\n",
       "    <tr>\n",
       "      <th>0</th>\n",
       "      <td>rikitea</td>\n",
       "      <td>-23.1203</td>\n",
       "      <td>-134.9692</td>\n",
       "      <td>79.32</td>\n",
       "      <td>78</td>\n",
       "      <td>10</td>\n",
       "      <td>17.60</td>\n",
       "      <td>PF</td>\n",
       "      <td>1613317351</td>\n",
       "    </tr>\n",
       "    <tr>\n",
       "      <th>1</th>\n",
       "      <td>ponta do sol</td>\n",
       "      <td>32.6667</td>\n",
       "      <td>-17.1000</td>\n",
       "      <td>64.40</td>\n",
       "      <td>72</td>\n",
       "      <td>0</td>\n",
       "      <td>4.61</td>\n",
       "      <td>PT</td>\n",
       "      <td>1613317383</td>\n",
       "    </tr>\n",
       "    <tr>\n",
       "      <th>2</th>\n",
       "      <td>mataura</td>\n",
       "      <td>-46.1927</td>\n",
       "      <td>168.8643</td>\n",
       "      <td>57.00</td>\n",
       "      <td>93</td>\n",
       "      <td>48</td>\n",
       "      <td>5.99</td>\n",
       "      <td>NZ</td>\n",
       "      <td>1613317374</td>\n",
       "    </tr>\n",
       "    <tr>\n",
       "      <th>3</th>\n",
       "      <td>flinders</td>\n",
       "      <td>-34.5833</td>\n",
       "      <td>150.8552</td>\n",
       "      <td>64.99</td>\n",
       "      <td>84</td>\n",
       "      <td>32</td>\n",
       "      <td>1.99</td>\n",
       "      <td>AU</td>\n",
       "      <td>1613317454</td>\n",
       "    </tr>\n",
       "    <tr>\n",
       "      <th>4</th>\n",
       "      <td>spornoye</td>\n",
       "      <td>50.8448</td>\n",
       "      <td>37.2913</td>\n",
       "      <td>12.20</td>\n",
       "      <td>73</td>\n",
       "      <td>90</td>\n",
       "      <td>11.18</td>\n",
       "      <td>RU</td>\n",
       "      <td>1613317455</td>\n",
       "    </tr>\n",
       "  </tbody>\n",
       "</table>\n",
       "</div>"
      ],
      "text/plain": [
       "           City      Lat       Lng  MaxTemp  Humidity  Cloudiness  WindSpeed  \\\n",
       "0       rikitea -23.1203 -134.9692    79.32        78          10      17.60   \n",
       "1  ponta do sol  32.6667  -17.1000    64.40        72           0       4.61   \n",
       "2       mataura -46.1927  168.8643    57.00        93          48       5.99   \n",
       "3      flinders -34.5833  150.8552    64.99        84          32       1.99   \n",
       "4      spornoye  50.8448   37.2913    12.20        73          90      11.18   \n",
       "\n",
       "  Country        Date  \n",
       "0      PF  1613317351  \n",
       "1      PT  1613317383  \n",
       "2      NZ  1613317374  \n",
       "3      AU  1613317454  \n",
       "4      RU  1613317455  "
      ]
     },
     "execution_count": 2,
     "metadata": {},
     "output_type": "execute_result"
    }
   ],
   "source": [
    "#Import csv from folder\n",
    "dfPath=\"cityFrame.csv\"\n",
    "cityDf=pd.read_csv(dfPath)\n",
    "cityDf.head()"
   ]
  },
  {
   "cell_type": "code",
   "execution_count": 3,
   "metadata": {},
   "outputs": [],
   "source": [
    "#Export as html\n",
    "htmlCityFrame = cityDf.to_html('table.html', index=False)"
   ]
  },
  {
   "cell_type": "code",
   "execution_count": null,
   "metadata": {},
   "outputs": [],
   "source": []
  }
 ],
 "metadata": {
  "kernelspec": {
   "display_name": "Python 3",
   "language": "python",
   "name": "python3"
  },
  "language_info": {
   "codemirror_mode": {
    "name": "ipython",
    "version": 3
   },
   "file_extension": ".py",
   "mimetype": "text/x-python",
   "name": "python",
   "nbconvert_exporter": "python",
   "pygments_lexer": "ipython3",
   "version": "3.8.5"
  }
 },
 "nbformat": 4,
 "nbformat_minor": 4
}
